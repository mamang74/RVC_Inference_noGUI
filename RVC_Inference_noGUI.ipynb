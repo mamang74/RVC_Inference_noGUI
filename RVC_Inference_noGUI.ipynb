{
  "cells": [
    {
      "cell_type": "markdown",
      "metadata": {
        "id": "2zrBO2hkLa46"
      },
      "source": [
        "# RVC Inference noGUI\n",
        "\n",
        "https://github.com/mamang74/RVC_Inference_noGUI\n",
        "\n",
        "## 참고한 프로젝트\n",
        "\n",
        "* [RVC-Studio](https://github.com/SayanoAI/RVC-Studio)\n",
        "* [Retrieval-based-Voice-Conversion-WebUI](https://github.com/RVC-Project/Retrieval-based-Voice-Conversion-WebUI)"
      ]
    },
    {
      "cell_type": "markdown",
      "metadata": {
        "id": "PhlOUoc3ikiW"
      },
      "source": [
        "# Dependencies\n",
        "가장 먼저 실행해주세요!"
      ]
    },
    {
      "cell_type": "code",
      "execution_count": null,
      "metadata": {
        "cellView": "form",
        "id": "1S4zUbYJiuKS"
      },
      "outputs": [],
      "source": [
        "# @title Clone repositories\n",
        "!git clone https://github.com/SayanoAI/RVC-Studio\n",
        "%cd RVC-Studio"
      ]
    },
    {
      "cell_type": "code",
      "execution_count": null,
      "metadata": {
        "cellView": "form",
        "id": "0u9lgW_F0Mqe"
      },
      "outputs": [],
      "source": [
        "# @title Remove unnecessary files\n",
        "!rm -rf pages\n",
        "!rm Home.py RVC_Studio.ipynb conda* docker* Dockerfile requirements.txt"
      ]
    },
    {
      "cell_type": "code",
      "execution_count": null,
      "metadata": {
        "cellView": "form",
        "id": "5votO3hkiwgB"
      },
      "outputs": [],
      "source": [
        "# @title Clone inference code & models\n",
        "\n",
        "!wget https://raw.githubusercontent.com/mamang74/RVC_Inference_noGUI/main/inference_cli.py\n",
        "\n",
        "# @markdown torch 버전을 1.13.1(기존 RVC에서 사용하는 버전) 로 설정합니다. 추론중 오류가 발생한다면 체크하고 코랩을 초기화 해주세요.\n",
        "USE_OLE_TORCH = False # @param {type:\"boolean\"}\n",
        "\n",
        "if USE_OLE_TORCH:\n",
        "    !wget https://raw.githubusercontent.com/mamang74/RVC_Inference_noGUI/main/requirements_torch.txt\n",
        "    !mv requirements_torch.txt requirements.txt\n",
        "else:\n",
        "    !wget https://raw.githubusercontent.com/mamang74/RVC_Inference_noGUI/main/requirements_nontorch.txt\n",
        "    !mv requirements_nontorch.txt requirements.txt\n",
        "\n",
        "!mv requirements_new.txt requirements.txt\n",
        "\n",
        "!wget https://raw.githubusercontent.com/mamang74/RVC_Inference_noGUI/main/download_models.sh\n",
        "!chmod 777 download_models.sh\n",
        "!bash download_models.sh"
      ]
    },
    {
      "cell_type": "code",
      "execution_count": null,
      "metadata": {
        "cellView": "form",
        "id": "tgJ791DqOrWb"
      },
      "outputs": [],
      "source": [
        "# @title Install Dependencies\n",
        "!pip install -r requirements.txt"
      ]
    },
    {
      "cell_type": "code",
      "execution_count": null,
      "metadata": {
        "cellView": "form",
        "id": "3HSSAuEOlIi9"
      },
      "outputs": [],
      "source": [
        "# @title Mount Drive\n",
        "from google.colab import drive\n",
        "drive.mount('/content/drive')\n",
        "\n",
        "import os\n",
        "\n",
        "if not os.path.isdir(\"/content/drive/MyDrive/RVC_Inference_noGUI\"):\n",
        "    !mkdir /content/drive/MyDrive/RVC_Inference_noGUI\n",
        "\n",
        "if not os.path.isdir(\"/content/drive/MyDrive/RVC_Inference_noGUI/models\"):\n",
        "    !mkdir /content/drive/MyDrive/RVC_Inference_noGUI/models\n",
        "\n",
        "if not os.path.isdir(\"/content/drive/MyDrive/RVC_Inference_noGUI/input\"):\n",
        "    !mkdir /content/drive/MyDrive/RVC_Inference_noGUI/input\n",
        "    "
      ]
    },
    {
      "cell_type": "markdown",
      "metadata": {
        "id": "h5INFxSwmdrB"
      },
      "source": [
        "# Model setting & Inference\n",
        "모델과 음성을 설정 후 추론합니다.\n"
      ]
    },
    {
      "cell_type": "code",
      "execution_count": null,
      "metadata": {
        "cellView": "form",
        "id": "P4HJt_Tqmb-4"
      },
      "outputs": [],
      "source": [
        "#@title Copy Model from Drive\n",
        "\n",
        "# @markdown 드라이브에서 `RVC_Inference_noGUI/models` 폴더 안에 RVC 모델 파일이 담긴 압축파일을 넣어주세요.<br/>압축파일은 다음과 같이 구성되어야 합니다.\n",
        "\n",
        "# @markdown `Some_model.zip`<br/>`├ Some_model.pth`<br/>`└ added_IVF~~(이름 변경 없이).index`\n",
        "\n",
        "# @markdown 또는\n",
        "\n",
        "# @markdown `Some_model.zip`<br/>`└ Some_model`<br/>　　`├ Some_model.pth`<br/>　　`└  added_IVF~~(이름 변경 없이).index`\n",
        "\n",
        "# @markdown 여기에 압축파일 이름을 적어주세요.\n",
        "ZIP_NAME = \"Some_model.zip\" # @param {type:\"string\"}\n",
        "\n",
        "# @markdown 불러온 모델을 사용하여 추론을 진행하니 혹시 모델이 바뀐다면 여기서 모델을 다시 설정한 후 실행해주세요.\n",
        "\n",
        "MODEL_PATH = \"\"\n",
        "\n",
        "import os\n",
        "\n",
        "def CheckFolder():\n",
        "    global ZIP_NAME, MODEL_PATH\n",
        "\n",
        "    ZipNameOnly = ZIP_NAME[:ZIP_NAME.rindex(\".\")]\n",
        "\n",
        "    if not os.path.isdir(\"/content/drive/MyDrive/RVC_Inference_noGUI\"):\n",
        "        !mkdir /content/drive/MyDrive/RVC_Inference_noGUI\n",
        "        !mkdir /content/drive/MyDrive/RVC_Inference_noGUI/models\n",
        "        print(\"RVC_Inference_noGUI 폴더가 드라이브에 없어서 새로 만들었습니다. 모델 압축파일을 models 폴더 안에 넣어주세요.\")\n",
        "        return\n",
        "\n",
        "    if not os.path.isdir(\"/content/drive/MyDrive/RVC_Inference_noGUI/models\"):\n",
        "        !mkdir /content/drive/MyDrive/RVC_Inference_noGUI/models\n",
        "        print(\"RVC_Inference_noGUI/models 폴더가 드라이브에 없어서 새로 만들었습니다. 모델 압축파일을 이 폴더에 넣어주세요.\")\n",
        "        return\n",
        "\n",
        "    zip_path = \"/content/drive/MyDrive/RVC_Inference_noGUI/models/\" + ZIP_NAME\n",
        "\n",
        "    if not os.path.isfile(zip_path):\n",
        "        print(\"압축파일을 찾을 수 없습니다! 이름을 다시 확인해주세요.\")\n",
        "        return\n",
        "\n",
        "    target_path = \"/content/RVC-Studio/models/RVC/model.zip\"\n",
        "\n",
        "    !cp $zip_path $target_path\n",
        "    %cd /content/RVC-Studio/models/RVC\n",
        "    !unzip model.zip\n",
        "    !rm $target_path\n",
        "\n",
        "    if os.path.isdir(\"/content/RVC-Studio/models/RVC/\" + ZipNameOnly):\n",
        "        p = \"/content/RVC-Studio/models/RVC/\" + ZipNameOnly\n",
        "        %cd $p\n",
        "        !mv *.pth ../\n",
        "        !mv *.index ../.index/\n",
        "        %cd ..\n",
        "        !rm -rf $p\n",
        "\n",
        "    else:\n",
        "        !mv *.index .index/\n",
        "\n",
        "    MODEL_PATH = \"/content/RVC-Studio/models/RVC/\" + ZipNameOnly + \".pth\"\n",
        "\n",
        "\n",
        "CheckFolder()\n",
        "\n",
        "print(\"Use model : \" + MODEL_PATH)"
      ]
    },
    {
      "cell_type": "code",
      "execution_count": null,
      "metadata": {
        "cellView": "form",
        "id": "klJ8G2mEb-A9"
      },
      "outputs": [],
      "source": [
        "# @title Inference\n",
        "\n",
        "# @markdown #음성 설정\n",
        "\n",
        "# @markdown 드라이브에서 `RVC_Inference_noGUI/input` 폴더 안에 추론에 사용할 wav 파일을 넣어주세요.<br/>wav가 아닐 시 변환하여 넣어주세요.\n",
        "\n",
        "# @markdown 여기에 파일 이름을 적어주세요.\n",
        "INPUT_NAME = \"Some_name.wav\" # @param {type:\"string\"}\n",
        "\n",
        "INPUT_PATH = \"\"\n",
        "\n",
        "def CheckInput():\n",
        "    global INPUT_NAME\n",
        "\n",
        "    if not os.path.isdir(\"/content/drive/MyDrive/RVC_Inference_noGUI\"):\n",
        "        !mkdir /content/drive/MyDrive/RVC_Inference_noGUI\n",
        "        !mkdir /content/drive/MyDrive/RVC_Inference_noGUI/input\n",
        "        raise Exception(\"RVC_Inference_noGUI 폴더가 드라이브에 없어서 새로 만들었습니다. wav 파일을 input 폴더 안에 넣어주세요.\")\n",
        "        return\n",
        "\n",
        "    if not os.path.isdir(\"/content/drive/MyDrive/RVC_Inference_noGUI/input\"):\n",
        "        !mkdir /content/drive/MyDrive/RVC_Inference_noGUI/input\n",
        "        raise Exception(\"RVC_Inference_noGUI/input 폴더가 드라이브에 없어서 새로 만들었습니다. wav 파일을 이 폴더에 넣어주세요.\")\n",
        "        return\n",
        "\n",
        "    wav_path = \"/content/drive/MyDrive/RVC_Inference_noGUI/input/\" + INPUT_NAME\n",
        "\n",
        "    if not os.path.isfile(wav_path):\n",
        "        raise Exception(\"파일을 찾을 수 없습니다! 이름을 다시 확인해주세요.\")\n",
        "        return\n",
        "\n",
        "    global INPUT_PATH\n",
        "    INPUT_PATH = wav_path\n",
        "\n",
        "\n",
        "CheckInput()\n",
        "\n",
        "# @markdown ---\n",
        "\n",
        "# @markdown ##RVC 추론 설정\n",
        "# @markdown 위에서 추가한 모델을 사용하여 추론합니다. <br/> 결과는 자동으로 드라이브에 `RVC_Inference_noGUI/output` 에 업로드됩니다.\n",
        "\n",
        "# @markdown 각각의 설정들의 설명으로 기존 RVC의 설명들을 써놓았습니다.\n",
        "\n",
        "# @markdown ---\n",
        "# @markdown Recommended +7 or +12 key for male to female conversion, and -12 or -5 key for female to male conversion. If the sound range goes too far and the voice is distorted, you can also adjust it to the appropriate range by yourself.\n",
        "f0_up_key = 0 # @param {type:\"slider\", min:-12, max:12, step:1}\n",
        "\n",
        "# @markdown ---\n",
        "# @markdown Select the pitch extraction algorithm ('crepe': better quality but GPU intensive, 'rmvpe': fast and best quality, and little GPU requirement, others: use them if you really want to...)\n",
        "f0_method = \"rmvpe\" # @param [\"crepe\", \"rmvpe\", \"mangio-crepe\", \"rmvpe+\", \"dio\", \"harvest\"]\n",
        "\n",
        "# @markdown ---\n",
        "# @markdown Merge Type\n",
        "merge_type = \"median\" # @param [\"median\", \"mean\"]\n",
        "\n",
        "# @markdown ---\n",
        "# @markdown Enable autotuning of extracted pitch\n",
        "f0_autotune = False # @param {type:\"boolean\"}\n",
        "\n",
        "# @markdown ---\n",
        "# @markdown Resample the output audio in post-processing to the final sample rate. Set to 0 for no resampling:\n",
        "resample_sr = \"0\" # @param [\"0\", \"16000\", \"24000\", \"22050\", \"40000\", \"44100\", \"48000\"]\n",
        "\n",
        "# @markdown ---\n",
        "# @markdown Search feature ratio (controls accent strength, too high has artifacting):\n",
        "index_rate = 0.75 # @param {type:\"slider\", min:0, max:1, step:0.05}\n",
        "\n",
        "# @markdown ---\n",
        "# @markdown If >=3: apply median filtering to the harvested pitch results. The value represents the filter radius and can reduce breathiness.\n",
        "filter_radius = 3 # @param {type:\"slider\", min:0, max:7, step:1}\n",
        "\n",
        "# @markdown ---\n",
        "# @markdown Adjust the volume envelope scaling. Closer to 0, the more it mimicks the volume of the original vocals. Can help mask noise and make volume sound more natural when set relatively low. Closer to 1 will be more of a consistently loud volume:\n",
        "rms_mix_rate = 0.2 # @param {type:\"slider\", min:0, max:1, step:0.05}\n",
        "\n",
        "# @markdown ---\n",
        "# @markdown Protect voiceless consonants and breath sounds to prevent artifacts such as tearing in electronic music. Set to 0.5 to disable. Decrease the value to increase protection, but it may reduce indexing accuracy:\n",
        "protect = 0.2 # @param {type:\"slider\", min:0, max:0.5, step:0.01}\n",
        "\n",
        "if not os.path.isdir(\"/content/drive/MyDrive/RVC_Inference_noGUI/output\"):\n",
        "    !mkdir /content/drive/MyDrive/RVC_Inference_noGUI/output\n",
        "\n",
        "exec_arg = \"python inference_cli.py \" + '\"' + MODEL_PATH + '\" \"' + INPUT_PATH + '\" ' + str(f0_up_key) + ' \"[\\\\\"' + f0_method + '\\\\\"]\" ' + str(f0_autotune) + \" \" + merge_type + \" \" + str(index_rate) + \" \" + str(filter_radius) + \" \" + resample_sr + \" \" + str(rms_mix_rate) + \" \" + str(protect) + \" \" + \"/content/drive/MyDrive/RVC_Inference_noGUI/output/\"\n",
        "\n",
        "%cd /content/RVC-Studio\n",
        "!$exec_arg\n",
        "\n",
        "print(\"결과가 드라이브에 저장되었습니다.\")"
      ]
    }
  ],
  "metadata": {
    "accelerator": "GPU",
    "colab": {
      "collapsed_sections": [
        "PhlOUoc3ikiW"
      ],
      "gpuType": "T4",
      "provenance": []
    },
    "kernelspec": {
      "display_name": "Python 3",
      "name": "python3"
    },
    "language_info": {
      "name": "python"
    }
  },
  "nbformat": 4,
  "nbformat_minor": 0
}
